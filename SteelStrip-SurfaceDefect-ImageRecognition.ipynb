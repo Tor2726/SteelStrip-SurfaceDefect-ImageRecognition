{
 "cells": [
  {
   "cell_type": "code",
   "execution_count": null,
   "id": "0d220c42",
   "metadata": {},
   "outputs": [],
   "source": [
    "import os\n",
    "import matplotlib.pyplot as plt\n",
    "import numpy as np\n",
    "from tensorflow.keras import models\n",
    "from tensorflow.keras import layers\n",
    "from tensorflow.keras.utils import to_categorical\n",
    "from tensorflow.keras.models import Sequential, Model, load_model\n",
    "from tensorflow.keras.layers import *\n",
    "from tensorflow.keras.callbacks import *\n",
    "from sklearn.model_selection import train_test_split\n",
    "from tensorflow.keras.preprocessing.image import ImageDataGenerator\n"
   ]
  },
  {
   "cell_type": "code",
   "execution_count": null,
   "id": "f9087d52",
   "metadata": {},
   "outputs": [],
   "source": []
  },
  {
   "cell_type": "code",
   "execution_count": null,
   "id": "6b9dcee0",
   "metadata": {},
   "outputs": [],
   "source": []
  },
  {
   "cell_type": "code",
   "execution_count": null,
   "id": "85337f6b",
   "metadata": {},
   "outputs": [],
   "source": [
    "model = Sequential() #定義下面寫法（疊加）\n",
    "\n",
    "model.add(Conv2D(filters = 64, kernel_size = (3,3),activation ='relu', input_shape = (28,28,1)))\n",
    "model.add(Conv2D(filters = 64, kernel_size = (3,3),activation ='relu'))\n",
    "model.add(MaxPool2D(pool_size=(2,2)))\n",
    "model.add(BatchNormalization())\n",
    "model.add(Dropout(0.25))\n",
    "\n",
    "model.add(Conv2D(filters = 128, kernel_size = (3,3),activation ='relu'))\n",
    "model.add(Conv2D(filters = 128, kernel_size = (3,3),activation ='relu'))\n",
    "model.add(MaxPool2D(pool_size=(2,2)))\n",
    "model.add(BatchNormalization())\n",
    "model.add(Dropout(0.25))\n",
    "\n",
    "# model.add(Conv2D(filters = 200, kernel_size = (3,3),activation ='relu'))\n",
    "# model.add(Conv2D(filters = 128, kernel_size = (3,3),activation ='relu'))\n",
    "# model.add(MaxPool2D(pool_size=(2,2)))\n",
    "# model.add(BatchNormalization())\n",
    "# model.add(Dropout(0.3))\n",
    "\n",
    "model.add(Conv2D(filters = 256, kernel_size = (3,3),activation ='relu'))\n",
    "model.add(MaxPool2D(pool_size=(2,2)))\n",
    "model.add(Flatten()) #平坦化\n",
    "model.add(BatchNormalization())\n",
    "model.add(Dropout(0.3))\n",
    "model.add(Dense(512, activation ='relu'))\n",
    "\n",
    "model.add(Dense(62, activation = \"softmax\"))\n",
    "# model.summary()\n",
    "\n",
    "model.compile(optimizer = 'adam' , loss = \"categorical_crossentropy\", metrics=[\"accuracy\"])\n"
   ]
  },
  {
   "cell_type": "code",
   "execution_count": null,
   "id": "c526adab",
   "metadata": {},
   "outputs": [],
   "source": [
    "datagen = ImageDataGenerator(featurewise_center=False,\n",
    "                         samplewise_center=False,\n",
    "                         rotation_range=8, \n",
    "                         width_shift_range=0.08, \n",
    "                         shear_range=0.3,\n",
    "                         height_shift_range=0.08, \n",
    "                         zoom_range=0.08,\n",
    "                         data_format=\"channels_last\")\n",
    "\n",
    "datagen.fit(X_train)\n",
    "train_generator = datagen.flow(X_train, y = y_train, batch_size=300)\n"
   ]
  },
  {
   "cell_type": "code",
   "execution_count": null,
   "id": "73fb3f63",
   "metadata": {},
   "outputs": [],
   "source": [
    "fig = model.fit_generator(datagen.flow(x = X_train, y = y_train,batch_size = 64),\n",
    "                        epochs=10, validation_data=(X_test, y_test), verbose =1)\n"
   ]
  },
  {
   "cell_type": "code",
   "execution_count": null,
   "id": "062a01d6",
   "metadata": {},
   "outputs": [],
   "source": [
    "\n",
    "plt.plot(model.history.history['accuracy'])\n",
    "plt.plot(model.history.history['val_accuracy'])\n",
    "plt.title('Accuracy')\n",
    "plt.ylabel('Accuracy')\n",
    "plt.xlabel('Epoch')\n",
    "plt.legend(['Train', 'Valid'], loc='center right')\n",
    "plt.show()\n"
   ]
  },
  {
   "cell_type": "code",
   "execution_count": null,
   "id": "f8341e5b",
   "metadata": {},
   "outputs": [],
   "source": [
    "test_images = np.load(TEST_DATA_FILE)['testing_images']\n",
    "# tst_images = test_images.reshape((test_images.shape[0], 28 * 28))\n",
    "# tst_images = tst_images.astype('float32') / 255\n",
    "\n",
    "results = model.predict(test_images)\n",
    "print(results)\n"
   ]
  },
  {
   "cell_type": "code",
   "execution_count": null,
   "id": "f027535f",
   "metadata": {},
   "outputs": [],
   "source": []
  },
  {
   "cell_type": "code",
   "execution_count": null,
   "id": "cf4a8778",
   "metadata": {},
   "outputs": [],
   "source": []
  },
  {
   "cell_type": "code",
   "execution_count": null,
   "id": "3c408577",
   "metadata": {},
   "outputs": [],
   "source": []
  },
  {
   "cell_type": "code",
   "execution_count": null,
   "id": "df91ecca",
   "metadata": {},
   "outputs": [],
   "source": []
  },
  {
   "cell_type": "code",
   "execution_count": null,
   "id": "312bdf4d",
   "metadata": {},
   "outputs": [],
   "source": []
  }
 ],
 "metadata": {
  "kernelspec": {
   "display_name": "Python 3 (ipykernel)",
   "language": "python",
   "name": "python3"
  },
  "language_info": {
   "codemirror_mode": {
    "name": "ipython",
    "version": 3
   },
   "file_extension": ".py",
   "mimetype": "text/x-python",
   "name": "python",
   "nbconvert_exporter": "python",
   "pygments_lexer": "ipython3",
   "version": "3.9.13"
  },
  "toc": {
   "base_numbering": 1,
   "nav_menu": {},
   "number_sections": true,
   "sideBar": true,
   "skip_h1_title": false,
   "title_cell": "Table of Contents",
   "title_sidebar": "Contents",
   "toc_cell": false,
   "toc_position": {},
   "toc_section_display": true,
   "toc_window_display": false
  }
 },
 "nbformat": 4,
 "nbformat_minor": 5
}
